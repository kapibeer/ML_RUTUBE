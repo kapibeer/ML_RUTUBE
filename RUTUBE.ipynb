{
 "cells": [
  {
   "cell_type": "markdown",
   "id": "2b55e8c2-711d-4ab1-ad9f-5c5cac8f81a2",
   "metadata": {},
   "source": [
    "# Решение кейса \"Рекомендательная система видео\" \n",
    "## Кейсодержатель: RUTUBE"
   ]
  },
  {
   "cell_type": "code",
   "execution_count": 180,
   "id": "adbc0fc0",
   "metadata": {},
   "outputs": [
    {
     "name": "stdout",
     "output_type": "stream",
     "text": [
      "loading data ...\n"
     ]
    }
   ],
   "source": [
    "import pandas as pd\n",
    "import os\n",
    "import gc\n",
    "\n",
    "print(\"loading data ...\")\n",
    "hack = pd.read_csv(\"small_player_starts_train.csv\")"
   ]
  },
  {
   "cell_type": "code",
   "execution_count": 181,
   "id": "852a0518",
   "metadata": {
    "scrolled": true
   },
   "outputs": [
    {
     "data": {
      "text/html": [
       "<div>\n",
       "<style scoped>\n",
       "    .dataframe tbody tr th:only-of-type {\n",
       "        vertical-align: middle;\n",
       "    }\n",
       "\n",
       "    .dataframe tbody tr th {\n",
       "        vertical-align: top;\n",
       "    }\n",
       "\n",
       "    .dataframe thead th {\n",
       "        text-align: right;\n",
       "    }\n",
       "</style>\n",
       "<table border=\"1\" class=\"dataframe\">\n",
       "  <thead>\n",
       "    <tr style=\"text-align: right;\">\n",
       "      <th></th>\n",
       "      <th>date</th>\n",
       "      <th>user_id</th>\n",
       "      <th>item_id</th>\n",
       "      <th>watch_time</th>\n",
       "      <th>is_autorized</th>\n",
       "    </tr>\n",
       "  </thead>\n",
       "  <tbody>\n",
       "    <tr>\n",
       "      <th>0</th>\n",
       "      <td>2023-08-21 15:53:30+03:00</td>\n",
       "      <td>user_7941459</td>\n",
       "      <td>video_1535803</td>\n",
       "      <td>22</td>\n",
       "      <td>0</td>\n",
       "    </tr>\n",
       "    <tr>\n",
       "      <th>1</th>\n",
       "      <td>2023-08-21 16:17:58+03:00</td>\n",
       "      <td>user_17893165</td>\n",
       "      <td>video_796847</td>\n",
       "      <td>374</td>\n",
       "      <td>0</td>\n",
       "    </tr>\n",
       "    <tr>\n",
       "      <th>2</th>\n",
       "      <td>2023-08-21 21:18:12+03:00</td>\n",
       "      <td>user_25219604</td>\n",
       "      <td>video_1905049</td>\n",
       "      <td>11</td>\n",
       "      <td>0</td>\n",
       "    </tr>\n",
       "    <tr>\n",
       "      <th>3</th>\n",
       "      <td>2023-08-21 01:06:10+03:00</td>\n",
       "      <td>user_24477183</td>\n",
       "      <td>video_1156618</td>\n",
       "      <td>1</td>\n",
       "      <td>0</td>\n",
       "    </tr>\n",
       "    <tr>\n",
       "      <th>4</th>\n",
       "      <td>2023-08-21 17:24:32+03:00</td>\n",
       "      <td>user_25483180</td>\n",
       "      <td>video_500499</td>\n",
       "      <td>20</td>\n",
       "      <td>0</td>\n",
       "    </tr>\n",
       "  </tbody>\n",
       "</table>\n",
       "</div>"
      ],
      "text/plain": [
       "                        date        user_id        item_id  watch_time  \\\n",
       "0  2023-08-21 15:53:30+03:00   user_7941459  video_1535803          22   \n",
       "1  2023-08-21 16:17:58+03:00  user_17893165   video_796847         374   \n",
       "2  2023-08-21 21:18:12+03:00  user_25219604  video_1905049          11   \n",
       "3  2023-08-21 01:06:10+03:00  user_24477183  video_1156618           1   \n",
       "4  2023-08-21 17:24:32+03:00  user_25483180   video_500499          20   \n",
       "\n",
       "   is_autorized  \n",
       "0             0  \n",
       "1             0  \n",
       "2             0  \n",
       "3             0  \n",
       "4             0  "
      ]
     },
     "execution_count": 181,
     "metadata": {},
     "output_type": "execute_result"
    }
   ],
   "source": [
    "hack.head(5)"
   ]
  },
  {
   "cell_type": "markdown",
   "id": "7f4e934e-13ca-4f5b-b0f0-03510a3be5c1",
   "metadata": {},
   "source": [
    "#### Для решения возьмем данные о просмотрах пользователей и метаданные о видео"
   ]
  },
  {
   "cell_type": "code",
   "execution_count": 182,
   "id": "fb8d4da2",
   "metadata": {
    "scrolled": true
   },
   "outputs": [
    {
     "name": "stdout",
     "output_type": "stream",
     "text": [
      "Amount of events:  2439644\n",
      "Unique users:  1313891\n",
      "Unique items:  261288\n",
      "Min date:  2023-08-21 00:00:00+03:00\n",
      "Max date:  2023-08-21 23:59:59+03:00\n"
     ]
    }
   ],
   "source": [
    "print(\"Amount of events: \", len(hack))\n",
    "users = hack.user_id.unique()\n",
    "print(\"Unique users: \", len(users))\n",
    "print(\"Unique items: \", hack.item_id.nunique())\n",
    "print(\"Min date: \", hack.date.min())\n",
    "print(\"Max date: \", hack.date.max())"
   ]
  },
  {
   "cell_type": "code",
   "execution_count": 183,
   "id": "dee4192c",
   "metadata": {},
   "outputs": [],
   "source": [
    "# preprocess date\n",
    "hack['date_short'] = hack.date.apply(lambda l: l.split(\" \")[0])"
   ]
  },
  {
   "cell_type": "markdown",
   "id": "6830777c-fd13-4057-9f33-a7a8f8da2d39",
   "metadata": {},
   "source": [
    "#### Отфильтруем только \"активных\" пользователей (тех, у кого более 1 просмотра за сессию, в нашем случае - за сутки)."
   ]
  },
  {
   "cell_type": "code",
   "execution_count": 184,
   "id": "8bc4706a-8a1c-4ffa-af07-42af1c76f98d",
   "metadata": {},
   "outputs": [
    {
     "name": "stdout",
     "output_type": "stream",
     "text": [
      "CPU times: user 2.54 s, sys: 134 ms, total: 2.67 s\n",
      "Wall time: 2.76 s\n"
     ]
    }
   ],
   "source": [
    "%%time\n",
    "groupby = hack.groupby([\"user_id\", \"date_short\"]).count()\n",
    "users_active = groupby[groupby['item_id'] >= 2].index.unique()"
   ]
  },
  {
   "cell_type": "code",
   "execution_count": 185,
   "id": "5bd7c1fd-7a87-45a5-9414-9dc399fe58fa",
   "metadata": {},
   "outputs": [],
   "source": [
    "users_active = set(users_active)"
   ]
  },
  {
   "cell_type": "code",
   "execution_count": 186,
   "id": "e3a0cdf5-2f76-47cd-8da2-acfd6e35d2af",
   "metadata": {
    "scrolled": false
   },
   "outputs": [
    {
     "name": "stderr",
     "output_type": "stream",
     "text": [
      "100%|██████████████████████████████| 2439644/2439644 [00:25<00:00, 95408.01it/s]\n"
     ]
    }
   ],
   "source": [
    "from tqdm import tqdm \n",
    "tqdm.pandas()\n",
    "hack['active'] = hack.progress_apply(lambda l: True if (l.user_id, l.date_short) in users_active else False, axis=1)\n",
    "hack=hack[hack.active]"
   ]
  },
  {
   "cell_type": "markdown",
   "id": "8a3bd04c",
   "metadata": {},
   "source": [
    "## Необходимые датасеты"
   ]
  },
  {
   "cell_type": "code",
   "execution_count": null,
   "id": "79e4d8eb",
   "metadata": {
    "scrolled": true
   },
   "outputs": [],
   "source": [
    "hack.reset_index(drop= True , inplace= True )"
   ]
  },
  {
   "cell_type": "code",
   "execution_count": 188,
   "id": "12e782c7",
   "metadata": {
    "scrolled": true
   },
   "outputs": [
    {
     "data": {
      "text/html": [
       "<div>\n",
       "<style scoped>\n",
       "    .dataframe tbody tr th:only-of-type {\n",
       "        vertical-align: middle;\n",
       "    }\n",
       "\n",
       "    .dataframe tbody tr th {\n",
       "        vertical-align: top;\n",
       "    }\n",
       "\n",
       "    .dataframe thead th {\n",
       "        text-align: right;\n",
       "    }\n",
       "</style>\n",
       "<table border=\"1\" class=\"dataframe\">\n",
       "  <thead>\n",
       "    <tr style=\"text-align: right;\">\n",
       "      <th></th>\n",
       "      <th>date</th>\n",
       "      <th>user_id</th>\n",
       "      <th>item_id</th>\n",
       "      <th>watch_time</th>\n",
       "      <th>is_autorized</th>\n",
       "      <th>date_short</th>\n",
       "      <th>active</th>\n",
       "    </tr>\n",
       "  </thead>\n",
       "  <tbody>\n",
       "    <tr>\n",
       "      <th>0</th>\n",
       "      <td>2023-08-21 15:53:30+03:00</td>\n",
       "      <td>user_7941459</td>\n",
       "      <td>video_1535803</td>\n",
       "      <td>22</td>\n",
       "      <td>0</td>\n",
       "      <td>2023-08-21</td>\n",
       "      <td>True</td>\n",
       "    </tr>\n",
       "    <tr>\n",
       "      <th>1</th>\n",
       "      <td>2023-08-21 21:18:12+03:00</td>\n",
       "      <td>user_25219604</td>\n",
       "      <td>video_1905049</td>\n",
       "      <td>11</td>\n",
       "      <td>0</td>\n",
       "      <td>2023-08-21</td>\n",
       "      <td>True</td>\n",
       "    </tr>\n",
       "    <tr>\n",
       "      <th>2</th>\n",
       "      <td>2023-08-21 17:24:32+03:00</td>\n",
       "      <td>user_25483180</td>\n",
       "      <td>video_500499</td>\n",
       "      <td>20</td>\n",
       "      <td>0</td>\n",
       "      <td>2023-08-21</td>\n",
       "      <td>True</td>\n",
       "    </tr>\n",
       "    <tr>\n",
       "      <th>3</th>\n",
       "      <td>2023-08-21 15:21:19+03:00</td>\n",
       "      <td>user_22148320</td>\n",
       "      <td>video_1366097</td>\n",
       "      <td>32</td>\n",
       "      <td>0</td>\n",
       "      <td>2023-08-21</td>\n",
       "      <td>True</td>\n",
       "    </tr>\n",
       "    <tr>\n",
       "      <th>4</th>\n",
       "      <td>2023-08-21 00:35:41+03:00</td>\n",
       "      <td>user_14452025</td>\n",
       "      <td>video_283933</td>\n",
       "      <td>2142</td>\n",
       "      <td>0</td>\n",
       "      <td>2023-08-21</td>\n",
       "      <td>True</td>\n",
       "    </tr>\n",
       "    <tr>\n",
       "      <th>...</th>\n",
       "      <td>...</td>\n",
       "      <td>...</td>\n",
       "      <td>...</td>\n",
       "      <td>...</td>\n",
       "      <td>...</td>\n",
       "      <td>...</td>\n",
       "      <td>...</td>\n",
       "    </tr>\n",
       "    <tr>\n",
       "      <th>1457171</th>\n",
       "      <td>2023-08-21 16:44:47+03:00</td>\n",
       "      <td>user_11895299</td>\n",
       "      <td>video_853811</td>\n",
       "      <td>101</td>\n",
       "      <td>0</td>\n",
       "      <td>2023-08-21</td>\n",
       "      <td>True</td>\n",
       "    </tr>\n",
       "    <tr>\n",
       "      <th>1457172</th>\n",
       "      <td>2023-08-21 02:51:53+03:00</td>\n",
       "      <td>user_15478739</td>\n",
       "      <td>video_1449287</td>\n",
       "      <td>291</td>\n",
       "      <td>1</td>\n",
       "      <td>2023-08-21</td>\n",
       "      <td>True</td>\n",
       "    </tr>\n",
       "    <tr>\n",
       "      <th>1457173</th>\n",
       "      <td>2023-08-21 05:19:55+03:00</td>\n",
       "      <td>user_3507470</td>\n",
       "      <td>video_464555</td>\n",
       "      <td>261</td>\n",
       "      <td>0</td>\n",
       "      <td>2023-08-21</td>\n",
       "      <td>True</td>\n",
       "    </tr>\n",
       "    <tr>\n",
       "      <th>1457174</th>\n",
       "      <td>2023-08-21 12:32:32+03:00</td>\n",
       "      <td>user_13128840</td>\n",
       "      <td>video_420973</td>\n",
       "      <td>21</td>\n",
       "      <td>0</td>\n",
       "      <td>2023-08-21</td>\n",
       "      <td>True</td>\n",
       "    </tr>\n",
       "    <tr>\n",
       "      <th>1457175</th>\n",
       "      <td>2023-08-21 14:13:32+03:00</td>\n",
       "      <td>user_5633301</td>\n",
       "      <td>video_733559</td>\n",
       "      <td>202</td>\n",
       "      <td>0</td>\n",
       "      <td>2023-08-21</td>\n",
       "      <td>True</td>\n",
       "    </tr>\n",
       "  </tbody>\n",
       "</table>\n",
       "<p>1457176 rows × 7 columns</p>\n",
       "</div>"
      ],
      "text/plain": [
       "                              date        user_id        item_id  watch_time  \\\n",
       "0        2023-08-21 15:53:30+03:00   user_7941459  video_1535803          22   \n",
       "1        2023-08-21 21:18:12+03:00  user_25219604  video_1905049          11   \n",
       "2        2023-08-21 17:24:32+03:00  user_25483180   video_500499          20   \n",
       "3        2023-08-21 15:21:19+03:00  user_22148320  video_1366097          32   \n",
       "4        2023-08-21 00:35:41+03:00  user_14452025   video_283933        2142   \n",
       "...                            ...            ...            ...         ...   \n",
       "1457171  2023-08-21 16:44:47+03:00  user_11895299   video_853811         101   \n",
       "1457172  2023-08-21 02:51:53+03:00  user_15478739  video_1449287         291   \n",
       "1457173  2023-08-21 05:19:55+03:00   user_3507470   video_464555         261   \n",
       "1457174  2023-08-21 12:32:32+03:00  user_13128840   video_420973          21   \n",
       "1457175  2023-08-21 14:13:32+03:00   user_5633301   video_733559         202   \n",
       "\n",
       "         is_autorized  date_short  active  \n",
       "0                   0  2023-08-21    True  \n",
       "1                   0  2023-08-21    True  \n",
       "2                   0  2023-08-21    True  \n",
       "3                   0  2023-08-21    True  \n",
       "4                   0  2023-08-21    True  \n",
       "...               ...         ...     ...  \n",
       "1457171             0  2023-08-21    True  \n",
       "1457172             1  2023-08-21    True  \n",
       "1457173             0  2023-08-21    True  \n",
       "1457174             0  2023-08-21    True  \n",
       "1457175             0  2023-08-21    True  \n",
       "\n",
       "[1457176 rows x 7 columns]"
      ]
     },
     "execution_count": 188,
     "metadata": {},
     "output_type": "execute_result"
    }
   ],
   "source": [
    "hack"
   ]
  },
  {
   "cell_type": "code",
   "execution_count": 9,
   "id": "105bc43a",
   "metadata": {},
   "outputs": [],
   "source": [
    "features = pd.read_parquet(\"videos.parquet\")"
   ]
  },
  {
   "cell_type": "code",
   "execution_count": 179,
   "id": "efdeca57",
   "metadata": {
    "scrolled": true
   },
   "outputs": [
    {
     "data": {
      "text/html": [
       "<div>\n",
       "<style scoped>\n",
       "    .dataframe tbody tr th:only-of-type {\n",
       "        vertical-align: middle;\n",
       "    }\n",
       "\n",
       "    .dataframe tbody tr th {\n",
       "        vertical-align: top;\n",
       "    }\n",
       "\n",
       "    .dataframe thead th {\n",
       "        text-align: right;\n",
       "    }\n",
       "</style>\n",
       "<table border=\"1\" class=\"dataframe\">\n",
       "  <thead>\n",
       "    <tr style=\"text-align: right;\">\n",
       "      <th></th>\n",
       "      <th>item_id</th>\n",
       "      <th>video_title</th>\n",
       "      <th>author_title</th>\n",
       "      <th>tv_title</th>\n",
       "      <th>season</th>\n",
       "      <th>video_description</th>\n",
       "      <th>category_title</th>\n",
       "      <th>publicated</th>\n",
       "      <th>duration</th>\n",
       "      <th>channel_sub</th>\n",
       "      <th>tv_sub</th>\n",
       "      <th>ctr.CTR_10days_21_07</th>\n",
       "      <th>ctr.CTR_10days_01_08</th>\n",
       "      <th>ctr.CTR_10days_10_08</th>\n",
       "      <th>ctr.CTR_10days_21_08</th>\n",
       "    </tr>\n",
       "  </thead>\n",
       "  <tbody>\n",
       "    <tr>\n",
       "      <th>0</th>\n",
       "      <td>video_165654</td>\n",
       "      <td>MSI Pro MP241X недоОБЗОР (РЕШЕНИЕ ПРОБЛЕМЫ С М...</td>\n",
       "      <td>Silvi</td>\n",
       "      <td>None</td>\n",
       "      <td>0</td>\n",
       "      <td>В видео я обывательским взглядом расскажу про ...</td>\n",
       "      <td>Технологии и интернет</td>\n",
       "      <td>2022-12-08 13:53:05+03:00</td>\n",
       "      <td>391382</td>\n",
       "      <td>0</td>\n",
       "      <td>0</td>\n",
       "      <td>NaN</td>\n",
       "      <td>0.0</td>\n",
       "      <td>0.000000</td>\n",
       "      <td>NaN</td>\n",
       "    </tr>\n",
       "    <tr>\n",
       "      <th>1</th>\n",
       "      <td>video_1173704</td>\n",
       "      <td>Наложение пястно фаланговой повязки на кисть</td>\n",
       "      <td>УЦ \"Академия Безопасности\"</td>\n",
       "      <td>None</td>\n",
       "      <td>0</td>\n",
       "      <td>Видео с канала УЦ Академия безопасности (ab-dp...</td>\n",
       "      <td>Образование</td>\n",
       "      <td>2022-03-24 09:19:15+03:00</td>\n",
       "      <td>125922</td>\n",
       "      <td>26</td>\n",
       "      <td>0</td>\n",
       "      <td>NaN</td>\n",
       "      <td>0.0</td>\n",
       "      <td>0.000000</td>\n",
       "      <td>0.00</td>\n",
       "    </tr>\n",
       "    <tr>\n",
       "      <th>2</th>\n",
       "      <td>video_23927</td>\n",
       "      <td>SilverstoneF1 Sochi Pro и Neoline x cop 6000s ...</td>\n",
       "      <td>Artur48</td>\n",
       "      <td>None</td>\n",
       "      <td>0</td>\n",
       "      <td>SilverstoneF1 Sochi Pro и Neoline x cop 6000s ...</td>\n",
       "      <td>Авто-мото</td>\n",
       "      <td>2022-03-19 17:41:49+03:00</td>\n",
       "      <td>436570</td>\n",
       "      <td>2</td>\n",
       "      <td>0</td>\n",
       "      <td>NaN</td>\n",
       "      <td>NaN</td>\n",
       "      <td>0.000000</td>\n",
       "      <td>0.00</td>\n",
       "    </tr>\n",
       "    <tr>\n",
       "      <th>3</th>\n",
       "      <td>video_1003780</td>\n",
       "      <td>БОЛЬНИЦА в Brookhaven! ДОКТОР ПУПКИН спас ЖЕНИ...</td>\n",
       "      <td>ПАПА ДОЧКИ Games</td>\n",
       "      <td>None</td>\n",
       "      <td>0</td>\n",
       "      <td>Играем в Роблокс (Roblox) - БОЛЬНИЦА в Brookha...</td>\n",
       "      <td>Детям</td>\n",
       "      <td>2021-02-20 11:50:53+03:00</td>\n",
       "      <td>719377</td>\n",
       "      <td>673</td>\n",
       "      <td>0</td>\n",
       "      <td>0.0</td>\n",
       "      <td>1.0</td>\n",
       "      <td>0.000000</td>\n",
       "      <td>0.00</td>\n",
       "    </tr>\n",
       "    <tr>\n",
       "      <th>4</th>\n",
       "      <td>video_105383</td>\n",
       "      <td>Вебинар \"Особенности трудоустройства граждан Б...</td>\n",
       "      <td>ЗАО \"Сплайн-Центр\"</td>\n",
       "      <td>None</td>\n",
       "      <td>0</td>\n",
       "      <td>10.08.2023 Вебинар \"Особенности трудоустройств...</td>\n",
       "      <td>Бизнес и предпринимательство</td>\n",
       "      <td>2023-08-11 09:02:07+03:00</td>\n",
       "      <td>3834404</td>\n",
       "      <td>19</td>\n",
       "      <td>0</td>\n",
       "      <td>0.0</td>\n",
       "      <td>0.0</td>\n",
       "      <td>0.000000</td>\n",
       "      <td>0.00</td>\n",
       "    </tr>\n",
       "    <tr>\n",
       "      <th>...</th>\n",
       "      <td>...</td>\n",
       "      <td>...</td>\n",
       "      <td>...</td>\n",
       "      <td>...</td>\n",
       "      <td>...</td>\n",
       "      <td>...</td>\n",
       "      <td>...</td>\n",
       "      <td>...</td>\n",
       "      <td>...</td>\n",
       "      <td>...</td>\n",
       "      <td>...</td>\n",
       "      <td>...</td>\n",
       "      <td>...</td>\n",
       "      <td>...</td>\n",
       "      <td>...</td>\n",
       "    </tr>\n",
       "    <tr>\n",
       "      <th>2320655</th>\n",
       "      <td>video_839160</td>\n",
       "      <td>Любимцы: Гена в памперсе бегает по клинике</td>\n",
       "      <td>Любимцы</td>\n",
       "      <td>Любимцы</td>\n",
       "      <td>1</td>\n",
       "      <td>None</td>\n",
       "      <td>Сериалы</td>\n",
       "      <td>2017-09-11 22:00:13+03:00</td>\n",
       "      <td>23290</td>\n",
       "      <td>0</td>\n",
       "      <td>0</td>\n",
       "      <td>NaN</td>\n",
       "      <td>0.0</td>\n",
       "      <td>0.333333</td>\n",
       "      <td>0.25</td>\n",
       "    </tr>\n",
       "    <tr>\n",
       "      <th>2320656</th>\n",
       "      <td>video_2134427</td>\n",
       "      <td>Телеканал «СПАС», «Главное», интервью С. В. Ст...</td>\n",
       "      <td>Фонд развития территорий</td>\n",
       "      <td>None</td>\n",
       "      <td>0</td>\n",
       "      <td>None</td>\n",
       "      <td>Интервью</td>\n",
       "      <td>2022-03-28 11:19:33+03:00</td>\n",
       "      <td>1548792</td>\n",
       "      <td>57</td>\n",
       "      <td>0</td>\n",
       "      <td>0.0</td>\n",
       "      <td>0.0</td>\n",
       "      <td>0.000000</td>\n",
       "      <td>0.00</td>\n",
       "    </tr>\n",
       "    <tr>\n",
       "      <th>2320657</th>\n",
       "      <td>video_1453482</td>\n",
       "      <td>Взятие 3 отметок на ИС 7</td>\n",
       "      <td>CeperA_TyLyH</td>\n",
       "      <td>None</td>\n",
       "      <td>0</td>\n",
       "      <td>None</td>\n",
       "      <td>Видеоигры</td>\n",
       "      <td>2022-09-10 20:05:17+03:00</td>\n",
       "      <td>520001</td>\n",
       "      <td>12</td>\n",
       "      <td>0</td>\n",
       "      <td>NaN</td>\n",
       "      <td>NaN</td>\n",
       "      <td>NaN</td>\n",
       "      <td>NaN</td>\n",
       "    </tr>\n",
       "    <tr>\n",
       "      <th>2320658</th>\n",
       "      <td>video_2225207</td>\n",
       "      <td>Простой и вкусный рецепт пирога с грушами и сы...</td>\n",
       "      <td>Комедийные Шоу и Скетчи ❤</td>\n",
       "      <td>None</td>\n",
       "      <td>0</td>\n",
       "      <td>None</td>\n",
       "      <td>Разное</td>\n",
       "      <td>2023-07-06 12:16:29+03:00</td>\n",
       "      <td>8267</td>\n",
       "      <td>9</td>\n",
       "      <td>0</td>\n",
       "      <td>0.0</td>\n",
       "      <td>0.0</td>\n",
       "      <td>0.000000</td>\n",
       "      <td>0.00</td>\n",
       "    </tr>\n",
       "    <tr>\n",
       "      <th>2320659</th>\n",
       "      <td>video_2242378</td>\n",
       "      <td>ДОМ-2 Live 1570 день</td>\n",
       "      <td>Дом-2</td>\n",
       "      <td>Дом 2. Live</td>\n",
       "      <td>7</td>\n",
       "      <td>None</td>\n",
       "      <td>Телепередачи</td>\n",
       "      <td>2016-10-21 15:27:59+03:00</td>\n",
       "      <td>4192046</td>\n",
       "      <td>152974</td>\n",
       "      <td>33420</td>\n",
       "      <td>NaN</td>\n",
       "      <td>NaN</td>\n",
       "      <td>NaN</td>\n",
       "      <td>1.00</td>\n",
       "    </tr>\n",
       "  </tbody>\n",
       "</table>\n",
       "<p>2320660 rows × 15 columns</p>\n",
       "</div>"
      ],
      "text/plain": [
       "               item_id                                        video_title  \\\n",
       "0         video_165654  MSI Pro MP241X недоОБЗОР (РЕШЕНИЕ ПРОБЛЕМЫ С М...   \n",
       "1        video_1173704       Наложение пястно фаланговой повязки на кисть   \n",
       "2          video_23927  SilverstoneF1 Sochi Pro и Neoline x cop 6000s ...   \n",
       "3        video_1003780  БОЛЬНИЦА в Brookhaven! ДОКТОР ПУПКИН спас ЖЕНИ...   \n",
       "4         video_105383  Вебинар \"Особенности трудоустройства граждан Б...   \n",
       "...                ...                                                ...   \n",
       "2320655   video_839160         Любимцы: Гена в памперсе бегает по клинике   \n",
       "2320656  video_2134427  Телеканал «СПАС», «Главное», интервью С. В. Ст...   \n",
       "2320657  video_1453482                           Взятие 3 отметок на ИС 7   \n",
       "2320658  video_2225207  Простой и вкусный рецепт пирога с грушами и сы...   \n",
       "2320659  video_2242378                               ДОМ-2 Live 1570 день   \n",
       "\n",
       "                       author_title     tv_title  season  \\\n",
       "0                             Silvi         None       0   \n",
       "1        УЦ \"Академия Безопасности\"         None       0   \n",
       "2                           Artur48         None       0   \n",
       "3                  ПАПА ДОЧКИ Games         None       0   \n",
       "4                ЗАО \"Сплайн-Центр\"         None       0   \n",
       "...                             ...          ...     ...   \n",
       "2320655                     Любимцы      Любимцы       1   \n",
       "2320656    Фонд развития территорий         None       0   \n",
       "2320657                CeperA_TyLyH         None       0   \n",
       "2320658   Комедийные Шоу и Скетчи ❤         None       0   \n",
       "2320659                       Дом-2  Дом 2. Live       7   \n",
       "\n",
       "                                         video_description  \\\n",
       "0        В видео я обывательским взглядом расскажу про ...   \n",
       "1        Видео с канала УЦ Академия безопасности (ab-dp...   \n",
       "2        SilverstoneF1 Sochi Pro и Neoline x cop 6000s ...   \n",
       "3        Играем в Роблокс (Roblox) - БОЛЬНИЦА в Brookha...   \n",
       "4        10.08.2023 Вебинар \"Особенности трудоустройств...   \n",
       "...                                                    ...   \n",
       "2320655                                               None   \n",
       "2320656                                               None   \n",
       "2320657                                               None   \n",
       "2320658                                               None   \n",
       "2320659                                               None   \n",
       "\n",
       "                       category_title                 publicated  duration  \\\n",
       "0               Технологии и интернет  2022-12-08 13:53:05+03:00    391382   \n",
       "1                         Образование  2022-03-24 09:19:15+03:00    125922   \n",
       "2                           Авто-мото  2022-03-19 17:41:49+03:00    436570   \n",
       "3                               Детям  2021-02-20 11:50:53+03:00    719377   \n",
       "4        Бизнес и предпринимательство  2023-08-11 09:02:07+03:00   3834404   \n",
       "...                               ...                        ...       ...   \n",
       "2320655                       Сериалы  2017-09-11 22:00:13+03:00     23290   \n",
       "2320656                      Интервью  2022-03-28 11:19:33+03:00   1548792   \n",
       "2320657                     Видеоигры  2022-09-10 20:05:17+03:00    520001   \n",
       "2320658                        Разное  2023-07-06 12:16:29+03:00      8267   \n",
       "2320659                  Телепередачи  2016-10-21 15:27:59+03:00   4192046   \n",
       "\n",
       "         channel_sub  tv_sub  ctr.CTR_10days_21_07  ctr.CTR_10days_01_08  \\\n",
       "0                  0       0                   NaN                   0.0   \n",
       "1                 26       0                   NaN                   0.0   \n",
       "2                  2       0                   NaN                   NaN   \n",
       "3                673       0                   0.0                   1.0   \n",
       "4                 19       0                   0.0                   0.0   \n",
       "...              ...     ...                   ...                   ...   \n",
       "2320655            0       0                   NaN                   0.0   \n",
       "2320656           57       0                   0.0                   0.0   \n",
       "2320657           12       0                   NaN                   NaN   \n",
       "2320658            9       0                   0.0                   0.0   \n",
       "2320659       152974   33420                   NaN                   NaN   \n",
       "\n",
       "         ctr.CTR_10days_10_08  ctr.CTR_10days_21_08  \n",
       "0                    0.000000                   NaN  \n",
       "1                    0.000000                  0.00  \n",
       "2                    0.000000                  0.00  \n",
       "3                    0.000000                  0.00  \n",
       "4                    0.000000                  0.00  \n",
       "...                       ...                   ...  \n",
       "2320655              0.333333                  0.25  \n",
       "2320656              0.000000                  0.00  \n",
       "2320657                   NaN                   NaN  \n",
       "2320658              0.000000                  0.00  \n",
       "2320659                   NaN                  1.00  \n",
       "\n",
       "[2320660 rows x 15 columns]"
      ]
     },
     "execution_count": 179,
     "metadata": {},
     "output_type": "execute_result"
    }
   ],
   "source": [
    "features"
   ]
  },
  {
   "cell_type": "markdown",
   "id": "f30d6d77",
   "metadata": {},
   "source": [
    "### Подготовка данных"
   ]
  },
  {
   "cell_type": "code",
   "execution_count": 382,
   "id": "8f93112a",
   "metadata": {
    "scrolled": true
   },
   "outputs": [],
   "source": [
    "import numpy as np\n",
    "\n",
    "item = np.array(features['item_id'].to_list())\n",
    "item_h = np.array(hack['item_id'].to_list())\n",
    "categ = np.array(features['category_title'].to_list())\n",
    "authors = np.array(features['author_title'].to_list())\n",
    "hack1 = hack\n",
    "hack1"
   ]
  },
  {
   "cell_type": "code",
   "execution_count": 355,
   "id": "ee93eb15",
   "metadata": {},
   "outputs": [
    {
     "name": "stderr",
     "output_type": "stream",
     "text": [
      "100%|███████████████████████████████████████| 1000/1000 [00:12<00:00, 78.52it/s]"
     ]
    },
    {
     "name": "stdout",
     "output_type": "stream",
     "text": [
      "CPU times: user 12.7 s, sys: 53.1 ms, total: 12.8 s\n",
      "Wall time: 12.7 s\n"
     ]
    },
    {
     "name": "stderr",
     "output_type": "stream",
     "text": [
      "\n",
      "<timed exec>:1: SettingWithCopyWarning: \n",
      "A value is trying to be set on a copy of a slice from a DataFrame.\n",
      "Try using .loc[row_indexer,col_indexer] = value instead\n",
      "\n",
      "See the caveats in the documentation: https://pandas.pydata.org/pandas-docs/stable/user_guide/indexing.html#returning-a-view-versus-a-copy\n"
     ]
    }
   ],
   "source": [
    "%%time\n",
    "hack1['cat'] = [categ[np.where(item == i)][0] for i in tqdm(item_h)]"
   ]
  },
  {
   "cell_type": "code",
   "execution_count": null,
   "id": "6db5ab51",
   "metadata": {
    "scrolled": true
   },
   "outputs": [
    {
     "name": "stderr",
     "output_type": "stream",
     "text": [
      " 25%|███████▌                      | 368941/1457176 [1:19:59<3:55:58, 76.86it/s]"
     ]
    }
   ],
   "source": [
    "hack1['author'] = [authors[np.where(item == i)][0] for i in tqdm(item_h)]"
   ]
  },
  {
   "cell_type": "markdown",
   "id": "906eee68-82f5-47f3-b6e6-1861818b0463",
   "metadata": {},
   "source": [
    "## Модель\n",
    "### Построим модель рекомендаций, основанную на совместной встречаемости видео, категорий видео и определенных авторов в сессиях пользователей\n",
    "\n",
    "В качеcтве сессии будем брать просмотры пользователя за сутки"
   ]
  },
  {
   "cell_type": "code",
   "execution_count": 358,
   "id": "d8af5e13",
   "metadata": {},
   "outputs": [],
   "source": [
    "def calc_pairs_video(train):\n",
    "    print(\"Get sessions\")\n",
    "    count = train.groupby(['item_id']).size().rename('count_source').reset_index()[\n",
    "        ['item_id', 'count_source']]\n",
    "    dt = train.groupby(['user_id', 'date_short'])['item_id'].agg(list).rename('pair').reset_index()\n",
    "    df = train[['user_id', 'date_short', 'item_id']].merge(dt, on=['user_id', 'date_short'], how='left')\n",
    "        \n",
    "    \n",
    "    del dt\n",
    "    gc.collect()\n",
    "\n",
    "    # Explode the rows vs list of articles\n",
    "    print(\"Explode the rows vs list of articles\")\n",
    "    df = df[['item_id', 'pair']].explode(column='pair')\n",
    "    gc.collect()\n",
    "    \n",
    "    print(\"Discard duplicates\")\n",
    "    df = df.loc[df['item_id'] != df['pair']].reset_index(drop=True)\n",
    "    \n",
    "    print(\"Count how many times each pair combination happens\")\n",
    "    df = df.groupby(['item_id', 'pair']).size().rename('count').reset_index()\n",
    "    \n",
    "    print(\"join with frecuency of source item\")\n",
    "    df = df.merge(count, on=['item_id'], how='left')\n",
    "    count = count.rename({'count_source': 'count_target', 'item_id': 'pair'}, axis=1)\n",
    "    df = df.merge(count, on=['pair'], how='left')\n",
    "\n",
    "    df['score'] = df.apply(lambda l: l['count'] / (l['count_source']*l['count_target']), axis=1)\n",
    "    df.sort_values(by=['score'], ascending=False, inplace=True)\n",
    "    gc.collect()\n",
    "    return df"
   ]
  },
  {
   "cell_type": "code",
   "execution_count": 359,
   "id": "fb3b7027",
   "metadata": {},
   "outputs": [],
   "source": [
    "def calc_pairs_category(train):\n",
    "    print(\"Get sessions\")\n",
    "    count = train.groupby(['cat']).size().rename('count_source').reset_index()[\n",
    "        ['cat', 'count_source']]\n",
    "    dt = train.groupby(['user_id', 'date_short'])['cat'].agg(list).rename('pair').reset_index()\n",
    "    df = train[['user_id', 'date_short', 'cat']].merge(dt, on=['user_id', 'date_short'], how='left')\n",
    "        \n",
    "    \n",
    "    del dt\n",
    "    gc.collect()\n",
    "\n",
    "    # Explode the rows vs list of articles\n",
    "    print(\"Explode the rows vs list of articles\")\n",
    "    df = df[['cat', 'pair']].explode(column='pair')\n",
    "    gc.collect()\n",
    "    \n",
    "    print(\"Discard duplicates\")\n",
    "    df = df.loc[df['cat'] != df['pair']].reset_index(drop=True)\n",
    "    \n",
    "    print(\"Count how many times each pair combination happens\")\n",
    "    df = df.groupby(['cat', 'pair']).size().rename('count').reset_index()\n",
    "    \n",
    "    print(\"join with frecuency of source item\")\n",
    "    df = df.merge(count, on=['cat'], how='left')\n",
    "    count = count.rename({'count_source': 'count_target', 'cat': 'pair'}, axis=1)\n",
    "    df = df.merge(count, on=['pair'], how='left')\n",
    "\n",
    "    df['score'] = df.apply(lambda l: l['count'] / (l['count_source']*l['count_target']), axis=1)\n",
    "    df.sort_values(by=['score'], ascending=False, inplace=True)\n",
    "    gc.collect()\n",
    "    return df"
   ]
  },
  {
   "cell_type": "code",
   "execution_count": 360,
   "id": "2aa4e0c9",
   "metadata": {},
   "outputs": [],
   "source": [
    "def calc_pairs_authors(train):\n",
    "    print(\"Get sessions\")\n",
    "    count = train.groupby(['author']).size().rename('count_source').reset_index()[\n",
    "        ['author', 'count_source']]\n",
    "    dt = train.groupby(['user_id', 'date_short'])['author'].agg(list).rename('pair').reset_index()\n",
    "    df = train[['user_id', 'date_short', 'author']].merge(dt, on=['user_id', 'date_short'], how='left')\n",
    "        \n",
    "    \n",
    "    del dt\n",
    "    gc.collect()\n",
    "\n",
    "    # Explode the rows vs list of articles\n",
    "    print(\"Explode the rows vs list of articles\")\n",
    "    df = df[['author', 'pair']].explode(column='pair')\n",
    "    gc.collect()\n",
    "    \n",
    "    print(\"Discard duplicates\")\n",
    "    df = df.loc[df['author'] != df['pair']].reset_index(drop=True)\n",
    "    \n",
    "    print(\"Count how many times each pair combination happens\")\n",
    "    df = df.groupby(['author', 'pair']).size().rename('count').reset_index()\n",
    "    \n",
    "    print(\"join with frecuency of source item\")\n",
    "    df = df.merge(count, on=['author'], how='left')\n",
    "    count = count.rename({'count_source': 'count_target', 'author': 'pair'}, axis=1)\n",
    "    df = df.merge(count, on=['pair'], how='left')\n",
    "\n",
    "    df['score'] = df.apply(lambda l: l['count'] / (l['count_source']*l['count_target']), axis=1)\n",
    "    df.sort_values(by=['score'], ascending=False, inplace=True)\n",
    "    gc.collect()\n",
    "    return df"
   ]
  },
  {
   "cell_type": "code",
   "execution_count": 361,
   "id": "385c438b",
   "metadata": {
    "scrolled": true
   },
   "outputs": [
    {
     "name": "stdout",
     "output_type": "stream",
     "text": [
      "Get sessions\n",
      "Explode the rows vs list of articles\n",
      "Discard duplicates\n",
      "Count how many times each pair combination happens\n",
      "join with frecuency of source item\n",
      "CPU times: user 482 ms, sys: 271 ms, total: 753 ms\n",
      "Wall time: 949 ms\n"
     ]
    }
   ],
   "source": [
    "%%time\n",
    "video = calc_pairs_video(hack1[['user_id', 'item_id', 'date_short']])"
   ]
  },
  {
   "cell_type": "code",
   "execution_count": null,
   "id": "6f6d17e1",
   "metadata": {},
   "outputs": [],
   "source": [
    "video"
   ]
  },
  {
   "cell_type": "code",
   "execution_count": 362,
   "id": "4a64ec0c",
   "metadata": {
    "scrolled": false
   },
   "outputs": [
    {
     "name": "stdout",
     "output_type": "stream",
     "text": [
      "Get sessions\n",
      "Explode the rows vs list of articles\n",
      "Discard duplicates\n",
      "Count how many times each pair combination happens\n",
      "join with frecuency of source item\n",
      "CPU times: user 398 ms, sys: 5.95 ms, total: 404 ms\n",
      "Wall time: 404 ms\n"
     ]
    }
   ],
   "source": [
    "%%time\n",
    "categories = calc_pairs_category(hack1[['user_id', 'cat', 'date_short']])"
   ]
  },
  {
   "cell_type": "code",
   "execution_count": null,
   "id": "f74beb61",
   "metadata": {},
   "outputs": [],
   "source": [
    "categories"
   ]
  },
  {
   "cell_type": "code",
   "execution_count": 363,
   "id": "4862505f",
   "metadata": {
    "scrolled": true
   },
   "outputs": [
    {
     "name": "stdout",
     "output_type": "stream",
     "text": [
      "Get sessions\n",
      "Explode the rows vs list of articles\n",
      "Discard duplicates\n",
      "Count how many times each pair combination happens\n",
      "join with frecuency of source item\n",
      "CPU times: user 394 ms, sys: 19.9 ms, total: 414 ms\n",
      "Wall time: 412 ms\n"
     ]
    }
   ],
   "source": [
    "%%time\n",
    "authors = calc_pairs_authors(hack1[['user_id', 'author', 'date_short']])"
   ]
  },
  {
   "cell_type": "code",
   "execution_count": 366,
   "id": "61d7ce71",
   "metadata": {},
   "outputs": [
    {
     "data": {
      "text/html": [
       "<div>\n",
       "<style scoped>\n",
       "    .dataframe tbody tr th:only-of-type {\n",
       "        vertical-align: middle;\n",
       "    }\n",
       "\n",
       "    .dataframe tbody tr th {\n",
       "        vertical-align: top;\n",
       "    }\n",
       "\n",
       "    .dataframe thead th {\n",
       "        text-align: right;\n",
       "    }\n",
       "</style>\n",
       "<table border=\"1\" class=\"dataframe\">\n",
       "  <thead>\n",
       "    <tr style=\"text-align: right;\">\n",
       "      <th></th>\n",
       "      <th>cat</th>\n",
       "      <th>pair</th>\n",
       "      <th>count</th>\n",
       "      <th>count_source</th>\n",
       "      <th>count_target</th>\n",
       "      <th>score</th>\n",
       "    </tr>\n",
       "  </thead>\n",
       "  <tbody>\n",
       "    <tr>\n",
       "      <th>0</th>\n",
       "      <td>Животные</td>\n",
       "      <td>Спорт</td>\n",
       "      <td>1</td>\n",
       "      <td>38</td>\n",
       "      <td>28</td>\n",
       "      <td>0.000940</td>\n",
       "    </tr>\n",
       "    <tr>\n",
       "      <th>1</th>\n",
       "      <td>Спорт</td>\n",
       "      <td>Животные</td>\n",
       "      <td>1</td>\n",
       "      <td>28</td>\n",
       "      <td>38</td>\n",
       "      <td>0.000940</td>\n",
       "    </tr>\n",
       "    <tr>\n",
       "      <th>2</th>\n",
       "      <td>Телепередачи</td>\n",
       "      <td>Юмор</td>\n",
       "      <td>1</td>\n",
       "      <td>369</td>\n",
       "      <td>43</td>\n",
       "      <td>0.000063</td>\n",
       "    </tr>\n",
       "    <tr>\n",
       "      <th>3</th>\n",
       "      <td>Юмор</td>\n",
       "      <td>Телепередачи</td>\n",
       "      <td>1</td>\n",
       "      <td>43</td>\n",
       "      <td>369</td>\n",
       "      <td>0.000063</td>\n",
       "    </tr>\n",
       "  </tbody>\n",
       "</table>\n",
       "</div>"
      ],
      "text/plain": [
       "            cat          pair  count  count_source  count_target     score\n",
       "0      Животные         Спорт      1            38            28  0.000940\n",
       "1         Спорт      Животные      1            28            38  0.000940\n",
       "2  Телепередачи          Юмор      1           369            43  0.000063\n",
       "3          Юмор  Телепередачи      1            43           369  0.000063"
      ]
     },
     "execution_count": 366,
     "metadata": {},
     "output_type": "execute_result"
    }
   ],
   "source": [
    "authors"
   ]
  },
  {
   "cell_type": "markdown",
   "id": "c6aa7a24",
   "metadata": {},
   "source": [
    "# Submission"
   ]
  },
  {
   "cell_type": "markdown",
   "id": "65e2d82d-042d-4bf2-b33f-693813b3a954",
   "metadata": {},
   "source": [
    "### Cделаем предсказания для тестовых пользователей, будем притягивать рекомендации к последнему видео в трейне следующим образом: к последнему видео рекомендуется ряды видео категорий и авторов, часто встречаемых с автором и категорией данного ролика\n",
    "\n",
    "Для пользователей, которые не попали в трейн, но есть на тесте, порекомендуем самые популярные видео из трейна"
   ]
  },
  {
   "cell_type": "markdown",
   "id": "51cb86af",
   "metadata": {},
   "source": [
    "#### Функции для поиска категорий и авторов "
   ]
  },
  {
   "cell_type": "code",
   "execution_count": 369,
   "id": "cbb179c4",
   "metadata": {},
   "outputs": [],
   "source": [
    "def auth_pop(author, features, num: int=5):\n",
    "    auth = features.loc[features['author_title'] == author]['item_id'].sort_values(by = ['publicated'], ascending = [False])\n",
    "    return auth['item_id'].tolist()[:num]\n",
    "    \n",
    "    \n",
    "def cat_pop(cat, features, num: int=5):\n",
    "    cats = features.loc[features['category_title'] == cat]['item_id'].sort_values(by = ['publicated'], ascending = [False])\n",
    "    return cats['item_id'].tolist()[:num]"
   ]
  },
  {
   "cell_type": "markdown",
   "id": "4776ada6",
   "metadata": {},
   "source": [
    "#### Самые популярные видео для холодных пользователей"
   ]
  },
  {
   "cell_type": "code",
   "execution_count": 370,
   "id": "53e27702-f4e7-418d-8b9e-5d3ba283c6ec",
   "metadata": {},
   "outputs": [],
   "source": [
    "most_popular = list(hack1.item_id.value_counts()[:15].to_frame().index)"
   ]
  },
  {
   "cell_type": "code",
   "execution_count": 371,
   "id": "19c3b1b4-34a8-4d08-8a6d-adba09098fa5",
   "metadata": {},
   "outputs": [
    {
     "data": {
      "text/html": [
       "<div>\n",
       "<style scoped>\n",
       "    .dataframe tbody tr th:only-of-type {\n",
       "        vertical-align: middle;\n",
       "    }\n",
       "\n",
       "    .dataframe tbody tr th {\n",
       "        vertical-align: top;\n",
       "    }\n",
       "\n",
       "    .dataframe thead th {\n",
       "        text-align: right;\n",
       "    }\n",
       "</style>\n",
       "<table border=\"1\" class=\"dataframe\">\n",
       "  <thead>\n",
       "    <tr style=\"text-align: right;\">\n",
       "      <th></th>\n",
       "      <th>item_id</th>\n",
       "      <th>video_title</th>\n",
       "      <th>author_title</th>\n",
       "      <th>tv_title</th>\n",
       "      <th>season</th>\n",
       "      <th>video_description</th>\n",
       "      <th>category_title</th>\n",
       "      <th>publicated</th>\n",
       "      <th>duration</th>\n",
       "      <th>channel_sub</th>\n",
       "      <th>tv_sub</th>\n",
       "      <th>ctr.CTR_10days_21_07</th>\n",
       "      <th>ctr.CTR_10days_01_08</th>\n",
       "      <th>ctr.CTR_10days_10_08</th>\n",
       "      <th>ctr.CTR_10days_21_08</th>\n",
       "    </tr>\n",
       "  </thead>\n",
       "  <tbody>\n",
       "    <tr>\n",
       "      <th>155423</th>\n",
       "      <td>video_68646</td>\n",
       "      <td>Выжить в Дубае, 8 выпуск</td>\n",
       "      <td>Телеканал ТНТ</td>\n",
       "      <td>Выжить в Дубае</td>\n",
       "      <td>1</td>\n",
       "      <td>Премьера! «Выжить в Дубае» – новое масштабное ...</td>\n",
       "      <td>Телепередачи</td>\n",
       "      <td>2023-08-13 21:00:12+03:00</td>\n",
       "      <td>5208840</td>\n",
       "      <td>75496</td>\n",
       "      <td>0</td>\n",
       "      <td>NaN</td>\n",
       "      <td>NaN</td>\n",
       "      <td>NaN</td>\n",
       "      <td>0.411112</td>\n",
       "    </tr>\n",
       "    <tr>\n",
       "      <th>238036</th>\n",
       "      <td>video_956001</td>\n",
       "      <td>Прямой эфир ТНТ4</td>\n",
       "      <td>ТНТ4</td>\n",
       "      <td>ТНТ4 live</td>\n",
       "      <td>0</td>\n",
       "      <td>Смелый, яркий и очень смешной канал ТНТ4 можно...</td>\n",
       "      <td>Телепередачи</td>\n",
       "      <td>2019-06-07 14:40:38+03:00</td>\n",
       "      <td>0</td>\n",
       "      <td>798</td>\n",
       "      <td>0</td>\n",
       "      <td>0.054545</td>\n",
       "      <td>NaN</td>\n",
       "      <td>NaN</td>\n",
       "      <td>0.000000</td>\n",
       "    </tr>\n",
       "    <tr>\n",
       "      <th>711554</th>\n",
       "      <td>video_302657</td>\n",
       "      <td>Выжить в Дубае, 6 выпуск</td>\n",
       "      <td>Телеканал ТНТ</td>\n",
       "      <td>Выжить в Дубае</td>\n",
       "      <td>1</td>\n",
       "      <td>Премьера! «Выжить в Дубае» – новое масштабное ...</td>\n",
       "      <td>Телепередачи</td>\n",
       "      <td>2023-07-30 21:00:06+03:00</td>\n",
       "      <td>5559360</td>\n",
       "      <td>75496</td>\n",
       "      <td>0</td>\n",
       "      <td>NaN</td>\n",
       "      <td>0.491602</td>\n",
       "      <td>0.379315</td>\n",
       "      <td>0.289821</td>\n",
       "    </tr>\n",
       "    <tr>\n",
       "      <th>755756</th>\n",
       "      <td>video_1733917</td>\n",
       "      <td>Как продлить стойкость макияжа в летний период</td>\n",
       "      <td>Juuuls</td>\n",
       "      <td>None</td>\n",
       "      <td>0</td>\n",
       "      <td>У всех у нас с приходом лета возникает один во...</td>\n",
       "      <td>Красота</td>\n",
       "      <td>2023-08-16 14:55:26+03:00</td>\n",
       "      <td>367267</td>\n",
       "      <td>17483</td>\n",
       "      <td>0</td>\n",
       "      <td>NaN</td>\n",
       "      <td>NaN</td>\n",
       "      <td>NaN</td>\n",
       "      <td>0.000000</td>\n",
       "    </tr>\n",
       "    <tr>\n",
       "      <th>881802</th>\n",
       "      <td>video_2095591</td>\n",
       "      <td>РИСУЕМ ОКЕАН И РЫБ НА СТЕНЕ! - реакция заказчи...</td>\n",
       "      <td>marialalart</td>\n",
       "      <td>None</td>\n",
       "      <td>0</td>\n",
       "      <td>Сегодня мы с вами  расписываем стенку в апарта...</td>\n",
       "      <td>Искусство</td>\n",
       "      <td>2023-08-14 19:54:50+03:00</td>\n",
       "      <td>447703</td>\n",
       "      <td>3343</td>\n",
       "      <td>0</td>\n",
       "      <td>NaN</td>\n",
       "      <td>NaN</td>\n",
       "      <td>NaN</td>\n",
       "      <td>0.000141</td>\n",
       "    </tr>\n",
       "  </tbody>\n",
       "</table>\n",
       "</div>"
      ],
      "text/plain": [
       "              item_id                                        video_title  \\\n",
       "155423    video_68646                           Выжить в Дубае, 8 выпуск   \n",
       "238036   video_956001                                   Прямой эфир ТНТ4   \n",
       "711554   video_302657                           Выжить в Дубае, 6 выпуск   \n",
       "755756  video_1733917     Как продлить стойкость макияжа в летний период   \n",
       "881802  video_2095591  РИСУЕМ ОКЕАН И РЫБ НА СТЕНЕ! - реакция заказчи...   \n",
       "\n",
       "         author_title        tv_title  season  \\\n",
       "155423  Телеканал ТНТ  Выжить в Дубае       1   \n",
       "238036           ТНТ4       ТНТ4 live       0   \n",
       "711554  Телеканал ТНТ  Выжить в Дубае       1   \n",
       "755756         Juuuls            None       0   \n",
       "881802    marialalart            None       0   \n",
       "\n",
       "                                        video_description category_title  \\\n",
       "155423  Премьера! «Выжить в Дубае» – новое масштабное ...   Телепередачи   \n",
       "238036  Смелый, яркий и очень смешной канал ТНТ4 можно...   Телепередачи   \n",
       "711554  Премьера! «Выжить в Дубае» – новое масштабное ...   Телепередачи   \n",
       "755756  У всех у нас с приходом лета возникает один во...        Красота   \n",
       "881802  Сегодня мы с вами  расписываем стенку в апарта...      Искусство   \n",
       "\n",
       "                       publicated  duration  channel_sub  tv_sub  \\\n",
       "155423  2023-08-13 21:00:12+03:00   5208840        75496       0   \n",
       "238036  2019-06-07 14:40:38+03:00         0          798       0   \n",
       "711554  2023-07-30 21:00:06+03:00   5559360        75496       0   \n",
       "755756  2023-08-16 14:55:26+03:00    367267        17483       0   \n",
       "881802  2023-08-14 19:54:50+03:00    447703         3343       0   \n",
       "\n",
       "        ctr.CTR_10days_21_07  ctr.CTR_10days_01_08  ctr.CTR_10days_10_08  \\\n",
       "155423                   NaN                   NaN                   NaN   \n",
       "238036              0.054545                   NaN                   NaN   \n",
       "711554                   NaN              0.491602              0.379315   \n",
       "755756                   NaN                   NaN                   NaN   \n",
       "881802                   NaN                   NaN                   NaN   \n",
       "\n",
       "        ctr.CTR_10days_21_08  \n",
       "155423              0.411112  \n",
       "238036              0.000000  \n",
       "711554              0.289821  \n",
       "755756              0.000000  \n",
       "881802              0.000141  "
      ]
     },
     "execution_count": 371,
     "metadata": {},
     "output_type": "execute_result"
    }
   ],
   "source": [
    "features[features.item_id.isin(most_popular)][:5]"
   ]
  },
  {
   "cell_type": "markdown",
   "id": "ac80f9c4-b41b-4c6b-8e1b-baccde75f7cd",
   "metadata": {},
   "source": [
    "#### Находим последнее просмотренное видео пользователями из теста (которые также есть и в трейне)"
   ]
  },
  {
   "cell_type": "code",
   "execution_count": 372,
   "id": "ef358278",
   "metadata": {
    "scrolled": true
   },
   "outputs": [],
   "source": [
    "hack1 = hack1[hack1.user_id.isin(hack1['user_id'].unique())].sort_values(by=['date'])"
   ]
  },
  {
   "cell_type": "code",
   "execution_count": 373,
   "id": "b9cc74ef",
   "metadata": {},
   "outputs": [
    {
     "name": "stdout",
     "output_type": "stream",
     "text": [
      "CPU times: user 692 ms, sys: 349 ms, total: 1.04 s\n",
      "Wall time: 2.38 s\n"
     ]
    }
   ],
   "source": [
    "%%time\n",
    "last_watched_videos = (\n",
    "    hack[['user_id', 'item_id']]\n",
    "    .groupby(['user_id'], as_index=False)\n",
    "    .agg('last')\n",
    ")"
   ]
  },
  {
   "cell_type": "code",
   "execution_count": 374,
   "id": "a2689830",
   "metadata": {},
   "outputs": [],
   "source": [
    "last_watched_videos = last_watched_videos.set_index('user_id').to_dict()['item_id']"
   ]
  },
  {
   "cell_type": "code",
   "execution_count": 375,
   "id": "a3b6882d",
   "metadata": {},
   "outputs": [],
   "source": [
    "items_in_train = {source: list(group.index) for source, group in rules.groupby(['item_id'])}\n",
    "cats_in_train = {source: list(group.index) for source, group in categories.groupby(['cat'])}\n",
    "authors_in_train = {source: list(group.index) for source, group in authors.groupby(['author'])}"
   ]
  },
  {
   "cell_type": "markdown",
   "id": "41f6c9ef",
   "metadata": {},
   "source": [
    "### Решение"
   ]
  },
  {
   "cell_type": "code",
   "execution_count": 376,
   "id": "fc12c154",
   "metadata": {},
   "outputs": [],
   "source": [
    "sub = pd.read_csv('sample_submission.csv')"
   ]
  },
  {
   "cell_type": "code",
   "execution_count": 378,
   "id": "b9f7dc69",
   "metadata": {},
   "outputs": [],
   "source": [
    "from tqdm import tqdm \n",
    "tqdm.pandas()\n",
    "\n",
    "\n",
    "def get_recs_for_users(rules, authors, categories,  sample_submission, last_watched_videos, items_in_train, num_candidates: int=3):\n",
    "    \n",
    "    for i, row in tqdm(sample_submission.iterrows()):\n",
    "        if row.user_id in last_watched_videos:\n",
    "            video = last_watched_videos[row.user_id]\n",
    "            video_ids = items_in_train[video] if video in items_in_train else ''\n",
    "            aut_ids = authors_in_train[features.loc[features['item_id'] == video]['author_title'].values[0]] if features.loc[features['item_id'] == video]['author_title'].values[0] in authors_in_train else ''\n",
    "            cat_ids = cats_in_train[features.loc[features['item_id'] == video]['category_title'].values[0]] if features.loc[features['item_id'] == video]['category_title'].values[0] in cats_in_train else ''\n",
    "            if len(video_ids)>0:\n",
    "                recs = []\n",
    "                recs.extend(rules.iloc[video_ids].item_id.to_list()[:num_candidates])\n",
    "                auth = authors.iloc[aut_ids].item_id.to_list()[:num_candidates]\n",
    "                catts = categories.iloc[cat_ids].item_id.to_list()[:num_candidates]\n",
    "                for i in range(num_candidates):\n",
    "                    recs.extend([auth_pop(auth[i], features, num_candidates + 1), cat_pop(catts[i], features, num_candidates)])\n",
    "                sample_submission.loc[i, 'recs'] = recs\n",
    "            else:\n",
    "                sample_submission.loc[i, 'recs'] = most_popular\n",
    "        else:\n",
    "            sample_submission.loc[i, 'recs'] = most_popular\n",
    "    return sample_submission"
   ]
  },
  {
   "cell_type": "code",
   "execution_count": 380,
   "id": "13d87de6",
   "metadata": {
    "scrolled": true
   },
   "outputs": [
    {
     "name": "stderr",
     "output_type": "stream",
     "text": [
      "0it [00:00, ?it/s]/var/folders/kh/xsjpwqw577x7d3m333j9gb3h0000gn/T/ipykernel_41043/2135796989.py:22: SettingWithCopyWarning: \n",
      "A value is trying to be set on a copy of a slice from a DataFrame\n",
      "\n",
      "See the caveats in the documentation: https://pandas.pydata.org/pandas-docs/stable/user_guide/indexing.html#returning-a-view-versus-a-copy\n",
      "  sample_submission.loc[i, 'recs'] = most_popular\n",
      "1it [00:00,  3.84it/s]/var/folders/kh/xsjpwqw577x7d3m333j9gb3h0000gn/T/ipykernel_41043/2135796989.py:24: SettingWithCopyWarning: \n",
      "A value is trying to be set on a copy of a slice from a DataFrame\n",
      "\n",
      "See the caveats in the documentation: https://pandas.pydata.org/pandas-docs/stable/user_guide/indexing.html#returning-a-view-versus-a-copy\n",
      "  sample_submission.loc[i, 'recs'] = most_popular\n",
      "500it [00:33, 14.92it/s]\n"
     ]
    }
   ],
   "source": [
    "submission = get_recs_for_users(rules, authors, categories, sub, last_watched_videos, items_in_train)"
   ]
  },
  {
   "cell_type": "code",
   "execution_count": 381,
   "id": "a78d9a14",
   "metadata": {
    "scrolled": true
   },
   "outputs": [
    {
     "data": {
      "text/html": [
       "<div>\n",
       "<style scoped>\n",
       "    .dataframe tbody tr th:only-of-type {\n",
       "        vertical-align: middle;\n",
       "    }\n",
       "\n",
       "    .dataframe tbody tr th {\n",
       "        vertical-align: top;\n",
       "    }\n",
       "\n",
       "    .dataframe thead th {\n",
       "        text-align: right;\n",
       "    }\n",
       "</style>\n",
       "<table border=\"1\" class=\"dataframe\">\n",
       "  <thead>\n",
       "    <tr style=\"text-align: right;\">\n",
       "      <th></th>\n",
       "      <th>user_id</th>\n",
       "      <th>recs</th>\n",
       "    </tr>\n",
       "  </thead>\n",
       "  <tbody>\n",
       "    <tr>\n",
       "      <th>0</th>\n",
       "      <td>user_26511551</td>\n",
       "      <td>[video_283933, video_1508623, video_68646, vid...</td>\n",
       "    </tr>\n",
       "    <tr>\n",
       "      <th>1</th>\n",
       "      <td>user_29194819</td>\n",
       "      <td>[video_283933, video_1508623, video_68646, vid...</td>\n",
       "    </tr>\n",
       "    <tr>\n",
       "      <th>2</th>\n",
       "      <td>user_29734049</td>\n",
       "      <td>[video_283933, video_1508623, video_68646, vid...</td>\n",
       "    </tr>\n",
       "    <tr>\n",
       "      <th>3</th>\n",
       "      <td>user_955460</td>\n",
       "      <td>[video_283933, video_1508623, video_68646, vid...</td>\n",
       "    </tr>\n",
       "    <tr>\n",
       "      <th>4</th>\n",
       "      <td>user_7065521</td>\n",
       "      <td>[video_283933, video_1508623, video_68646, vid...</td>\n",
       "    </tr>\n",
       "    <tr>\n",
       "      <th>...</th>\n",
       "      <td>...</td>\n",
       "      <td>...</td>\n",
       "    </tr>\n",
       "    <tr>\n",
       "      <th>495</th>\n",
       "      <td>user_19042269</td>\n",
       "      <td>[video_283933, video_1508623, video_68646, vid...</td>\n",
       "    </tr>\n",
       "    <tr>\n",
       "      <th>496</th>\n",
       "      <td>user_29494756</td>\n",
       "      <td>[video_283933, video_1508623, video_68646, vid...</td>\n",
       "    </tr>\n",
       "    <tr>\n",
       "      <th>497</th>\n",
       "      <td>user_20271628</td>\n",
       "      <td>[video_283933, video_1508623, video_68646, vid...</td>\n",
       "    </tr>\n",
       "    <tr>\n",
       "      <th>498</th>\n",
       "      <td>user_2600551</td>\n",
       "      <td>[video_283933, video_1508623, video_68646, vid...</td>\n",
       "    </tr>\n",
       "    <tr>\n",
       "      <th>499</th>\n",
       "      <td>user_9642301</td>\n",
       "      <td>[video_283933, video_1508623, video_68646, vid...</td>\n",
       "    </tr>\n",
       "  </tbody>\n",
       "</table>\n",
       "<p>500 rows × 2 columns</p>\n",
       "</div>"
      ],
      "text/plain": [
       "           user_id                                               recs\n",
       "0    user_26511551  [video_283933, video_1508623, video_68646, vid...\n",
       "1    user_29194819  [video_283933, video_1508623, video_68646, vid...\n",
       "2    user_29734049  [video_283933, video_1508623, video_68646, vid...\n",
       "3      user_955460  [video_283933, video_1508623, video_68646, vid...\n",
       "4     user_7065521  [video_283933, video_1508623, video_68646, vid...\n",
       "..             ...                                                ...\n",
       "495  user_19042269  [video_283933, video_1508623, video_68646, vid...\n",
       "496  user_29494756  [video_283933, video_1508623, video_68646, vid...\n",
       "497  user_20271628  [video_283933, video_1508623, video_68646, vid...\n",
       "498   user_2600551  [video_283933, video_1508623, video_68646, vid...\n",
       "499   user_9642301  [video_283933, video_1508623, video_68646, vid...\n",
       "\n",
       "[500 rows x 2 columns]"
      ]
     },
     "execution_count": 381,
     "metadata": {},
     "output_type": "execute_result"
    }
   ],
   "source": [
    "submission"
   ]
  },
  {
   "cell_type": "code",
   "execution_count": 35,
   "id": "9d6e8499",
   "metadata": {},
   "outputs": [],
   "source": [
    "submission.to_csv(\"submission.csv\", index=False)"
   ]
  }
 ],
 "metadata": {
  "kernelspec": {
   "display_name": "Python 3 (ipykernel)",
   "language": "python",
   "name": "python3"
  },
  "language_info": {
   "codemirror_mode": {
    "name": "ipython",
    "version": 3
   },
   "file_extension": ".py",
   "mimetype": "text/x-python",
   "name": "python",
   "nbconvert_exporter": "python",
   "pygments_lexer": "ipython3",
   "version": "3.9.13"
  }
 },
 "nbformat": 4,
 "nbformat_minor": 5
}
