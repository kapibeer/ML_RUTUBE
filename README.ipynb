{
 "cells": [
  {
   "cell_type": "markdown",
   "id": "ac19426e",
   "metadata": {},
   "source": [
    "# README для системы рекомендаций RUTUBE"
   ]
  },
{
 "cells": [
  {
   "cell_type": "markdown",
   "id": "ac19426e",
   "metadata": {},
   "source": [
    "# Открывать файл RUTUBE-2.ipynb"
   ]
  },
  {
   "cell_type": "markdown",
   "id": "60554c8b",
   "metadata": {},
   "source": [
    "## Описание"
   ]
  },
  {
   "cell_type": "markdown",
   "id": "93117147",
   "metadata": {},
   "source": [
    "Модель рекомендаций, основанная на совместной встречаемости видео. Используются переменные из метаданных видео, такие как категории и авторы видео. На основе просмотров пользователями составляются пары наиболее часто встречвающихся видео, авторов и категорий у одного пользователя. На их основе составляются рекомендации по последнему видео. Рекомендуются наиболее подходящие видео и видео различных категорий и авторов, рекомендуемых к категории и автору данного видео"
   ]
  },
  {
   "cell_type": "markdown",
   "id": "bac6c697",
   "metadata": {},
   "source": [
    "## Библиотеки и модули необходимые для кода"
   ]
  },
  {
   "cell_type": "markdown",
   "id": "9066117e",
   "metadata": {},
   "source": [
    "pandas os gc tqdm numpy"
   ]
  },
  {
   "cell_type": "markdown",
   "id": "749bfe60",
   "metadata": {},
   "source": [
    "## Используемые данные из train_dataset_rutube"
   ]
  },
  {
   "cell_type": "markdown",
   "id": "8c62376a",
   "metadata": {},
   "source": [
    "small_player_starts_train.csv, videos.parquet"
   ]
  },
  {
   "cell_type": "markdown",
   "id": "21744c85",
   "metadata": {},
   "source": [
    "## Заметки"
   ]
  },
  {
   "cell_type": "markdown",
   "id": "a2cbfc36",
   "metadata": {},
   "source": [
    "#### Комментариями отмечено то, чего нет в итоговом submission, но предполагается в конечном решении"
   ]
  },
  {
   "cell_type": "markdown",
   "id": "181c4b2f",
   "metadata": {},
   "source": [
    "#### В submission представлены 10000 рекомендаций, сгенерированые системой. Остальные ячейки заполнены самым популярным контентом"
   ]
  },
  {
   "cell_type": "markdown",
   "id": "62ec2e21",
   "metadata": {},
   "source": [
    "# Авторы: Насталовская Таисия, Кондакова Капитолина"
   ]
  }
 ],
 "metadata": {
  "kernelspec": {
   "display_name": "Python 3 (ipykernel)",
   "language": "python",
   "name": "python3"
  },
  "language_info": {
   "codemirror_mode": {
    "name": "ipython",
    "version": 3
   },
   "file_extension": ".py",
   "mimetype": "text/x-python",
   "name": "python",
   "nbconvert_exporter": "python",
   "pygments_lexer": "ipython3",
   "version": "3.9.13"
  }
 },
 "nbformat": 4,
 "nbformat_minor": 5
}
